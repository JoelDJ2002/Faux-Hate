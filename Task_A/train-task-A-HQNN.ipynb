{
 "cells": [
  {
   "cell_type": "markdown",
   "metadata": {},
   "source": [
    "## DATA cleaning"
   ]
  },
  {
   "cell_type": "code",
   "execution_count": 112,
   "metadata": {},
   "outputs": [],
   "source": [
    "import pandas as pd\n",
    "import numpy as np\n",
    "import matplotlib.pyplot as plt\n",
    "import torch\n",
    "from gensim.models import Word2Vec\n",
    "import torch.nn as nn\n",
    "import torch.optim as optim\n",
    "from torch.utils.data import Dataset, DataLoader\n",
    "import pandas as pd\n",
    "import torch\n",
    "import torch.nn as nn\n",
    "import torch.optim as optim\n",
    "from torch.utils.data import DataLoader\n",
    "import csv\n",
    "\n",
    "\n"
   ]
  },
  {
   "cell_type": "code",
   "execution_count": null,
   "metadata": {},
   "outputs": [],
   "source": [
    "df = pd.read_excel('Train_Task_A.xlsx')\n"
   ]
  },
  {
   "cell_type": "code",
   "execution_count": null,
   "metadata": {},
   "outputs": [
    {
     "data": {
      "text/html": [
       "<div>\n",
       "<style scoped>\n",
       "    .dataframe tbody tr th:only-of-type {\n",
       "        vertical-align: middle;\n",
       "    }\n",
       "\n",
       "    .dataframe tbody tr th {\n",
       "        vertical-align: top;\n",
       "    }\n",
       "\n",
       "    .dataframe thead th {\n",
       "        text-align: right;\n",
       "    }\n",
       "</style>\n",
       "<table border=\"1\" class=\"dataframe\">\n",
       "  <thead>\n",
       "    <tr style=\"text-align: right;\">\n",
       "      <th></th>\n",
       "      <th>Id</th>\n",
       "      <th>Tweet</th>\n",
       "      <th>Hate</th>\n",
       "      <th>Fake</th>\n",
       "    </tr>\n",
       "  </thead>\n",
       "  <tbody>\n",
       "    <tr>\n",
       "      <th>0</th>\n",
       "      <td>5723</td>\n",
       "      <td>@sudhirchaudhary Abhi tak 2000 ke note me mujh...</td>\n",
       "      <td>0</td>\n",
       "      <td>0</td>\n",
       "    </tr>\n",
       "    <tr>\n",
       "      <th>1</th>\n",
       "      <td>2338</td>\n",
       "      <td>@Gulamane_raza @MustakimRazvi Abe katiye tumse...</td>\n",
       "      <td>1</td>\n",
       "      <td>1</td>\n",
       "    </tr>\n",
       "    <tr>\n",
       "      <th>2</th>\n",
       "      <td>1579</td>\n",
       "      <td>@RajatSharmaLive Ye sab sazish hai....bina sam...</td>\n",
       "      <td>1</td>\n",
       "      <td>1</td>\n",
       "    </tr>\n",
       "    <tr>\n",
       "      <th>3</th>\n",
       "      <td>6524</td>\n",
       "      <td>abe jao tum to dasko pahle hi fash gye the jab...</td>\n",
       "      <td>1</td>\n",
       "      <td>0</td>\n",
       "    </tr>\n",
       "    <tr>\n",
       "      <th>4</th>\n",
       "      <td>7618</td>\n",
       "      <td>Ab ye afbah kaun faila Raha hai ki Shahhen bag...</td>\n",
       "      <td>0</td>\n",
       "      <td>0</td>\n",
       "    </tr>\n",
       "    <tr>\n",
       "      <th>5</th>\n",
       "      <td>5077</td>\n",
       "      <td>@FilmyKhichdii Nahi sudhar sakta tu.... Waise ...</td>\n",
       "      <td>1</td>\n",
       "      <td>0</td>\n",
       "    </tr>\n",
       "    <tr>\n",
       "      <th>6</th>\n",
       "      <td>5342</td>\n",
       "      <td>Hindenburg ko America ke 2 Bank ki gadbadi nah...</td>\n",
       "      <td>1</td>\n",
       "      <td>0</td>\n",
       "    </tr>\n",
       "    <tr>\n",
       "      <th>7</th>\n",
       "      <td>1451</td>\n",
       "      <td>@AcharyaPramodk Agar tum maan lo ki tabligi ja...</td>\n",
       "      <td>1</td>\n",
       "      <td>1</td>\n",
       "    </tr>\n",
       "    <tr>\n",
       "      <th>8</th>\n",
       "      <td>4975</td>\n",
       "      <td>@TweetAbhishekA Inme se kahiyoun ke pati, pita...</td>\n",
       "      <td>1</td>\n",
       "      <td>0</td>\n",
       "    </tr>\n",
       "    <tr>\n",
       "      <th>9</th>\n",
       "      <td>7108</td>\n",
       "      <td>..magar accident mein toh na jane kitne muslim...</td>\n",
       "      <td>0</td>\n",
       "      <td>0</td>\n",
       "    </tr>\n",
       "  </tbody>\n",
       "</table>\n",
       "</div>"
      ],
      "text/plain": [
       "     Id                                              Tweet  Hate  Fake\n",
       "0  5723  @sudhirchaudhary Abhi tak 2000 ke note me mujh...     0     0\n",
       "1  2338  @Gulamane_raza @MustakimRazvi Abe katiye tumse...     1     1\n",
       "2  1579  @RajatSharmaLive Ye sab sazish hai....bina sam...     1     1\n",
       "3  6524  abe jao tum to dasko pahle hi fash gye the jab...     1     0\n",
       "4  7618  Ab ye afbah kaun faila Raha hai ki Shahhen bag...     0     0\n",
       "5  5077  @FilmyKhichdii Nahi sudhar sakta tu.... Waise ...     1     0\n",
       "6  5342  Hindenburg ko America ke 2 Bank ki gadbadi nah...     1     0\n",
       "7  1451  @AcharyaPramodk Agar tum maan lo ki tabligi ja...     1     1\n",
       "8  4975  @TweetAbhishekA Inme se kahiyoun ke pati, pita...     1     0\n",
       "9  7108  ..magar accident mein toh na jane kitne muslim...     0     0"
      ]
     },
     "execution_count": 114,
     "metadata": {},
     "output_type": "execute_result"
    }
   ],
   "source": [
    "df.head(10)"
   ]
  },
  {
   "cell_type": "code",
   "execution_count": 115,
   "metadata": {},
   "outputs": [],
   "source": [
    "df = df.drop(columns='Id')"
   ]
  },
  {
   "cell_type": "code",
   "execution_count": 116,
   "metadata": {},
   "outputs": [
    {
     "data": {
      "text/plain": [
       "Index(['Tweet', 'Hate', 'Fake'], dtype='object')"
      ]
     },
     "execution_count": 116,
     "metadata": {},
     "output_type": "execute_result"
    }
   ],
   "source": [
    "df.columns"
   ]
  },
  {
   "cell_type": "code",
   "execution_count": 117,
   "metadata": {},
   "outputs": [
    {
     "data": {
      "text/plain": [
       "array([0, 1], dtype=int64)"
      ]
     },
     "execution_count": 117,
     "metadata": {},
     "output_type": "execute_result"
    }
   ],
   "source": [
    "df.Hate.unique()"
   ]
  },
  {
   "cell_type": "code",
   "execution_count": 118,
   "metadata": {},
   "outputs": [
    {
     "data": {
      "text/plain": [
       "Text(0.5, 1.0, 'Distribution of Hate Class')"
      ]
     },
     "execution_count": 118,
     "metadata": {},
     "output_type": "execute_result"
    },
    {
     "data": {
      "image/png": "[encoded data removed]",
      "text/plain": [
       "<Figure size 640x480 with 1 Axes>"
      ]
     },
     "metadata": {},
     "output_type": "display_data"
    }
   ],
   "source": [
    "import seaborn as sns\n",
    "sns.set()\n",
    "sns.countplot(df, x='Hate').set_title('Distribution of Hate Class')"
   ]
  },
  {
   "cell_type": "code",
   "execution_count": 119,
   "metadata": {},
   "outputs": [
    {
     "data": {
      "text/plain": [
       "Text(0.5, 1.0, 'Distribution of Hate Class')"
      ]
     },
     "execution_count": 119,
     "metadata": {},
     "output_type": "execute_result"
    },
    {
     "data": {
      "image/png": "[encoded data removed]",
      "text/plain": [
       "<Figure size 640x480 with 1 Axes>"
      ]
     },
     "metadata": {},
     "output_type": "display_data"
    }
   ],
   "source": [
    "sns.countplot(df, x='Fake').set_title('Distribution of Hate Class')"
   ]
  },
  {
   "cell_type": "code",
   "execution_count": 120,
   "metadata": {},
   "outputs": [],
   "source": [
    "import re\n",
    "import string"
   ]
  },
  {
   "cell_type": "code",
   "execution_count": 121,
   "metadata": {},
   "outputs": [],
   "source": [
    "# function to clean all data\n",
    "def clean_text_round1(text):\n",
    "    '''Make text lowercase, remove text in square brackets, remove punctuation and remove words containing numbers.'''\n",
    "\n",
    "    text = re.sub('(\\&amp\\;)', '', text)\n",
    "    # removing any usernames\n",
    "    text = re.sub('(@[^\\s]+)', '', text)\n",
    "    # removing any hashtags\n",
    "    text = re.sub('(#[^\\s]+)', '', text)\n",
    "    \n",
    "    text = re.sub(r'[^a-zA-Z0-9\\s]', '', text).lower()\n",
    "    # remove `rt` for retweet\n",
    "    text = re.sub('(rt)', '', text)\n",
    "    # string.punctuation is a string of all punctuation marks\n",
    "    # so this gets rid of all punctuation\n",
    "    text = re.sub('[%s]' % re.escape(string.punctuation), '', text)\n",
    "    # getting rid of `httptco`\n",
    "    text = re.sub('(httptco)', '', text)\n",
    "\n",
    "    return text\n",
    "\n",
    "round1 = lambda x: clean_text_round1(x)"
   ]
  },
  {
   "cell_type": "code",
   "execution_count": 122,
   "metadata": {},
   "outputs": [
    {
     "data": {
      "text/plain": [
       "0       @sudhirchaudhary Abhi tak 2000 ke note me mujh...\n",
       "1       @Gulamane_raza @MustakimRazvi Abe katiye tumse...\n",
       "2       @RajatSharmaLive Ye sab sazish hai....bina sam...\n",
       "3       abe jao tum to dasko pahle hi fash gye the jab...\n",
       "4       Ab ye afbah kaun faila Raha hai ki Shahhen bag...\n",
       "                              ...                        \n",
       "6391    @team_hyv Pathaan part 2 bhi aa rha hai, boyco...\n",
       "6392    @amitku1047 @bordiasanjay @izeenatrana @RahulG...\n",
       "6393    @HusainSahadal Sachaee ladaee hoti h hamare de...\n",
       "6394                  Hahaha hahaha kejurdin ððð\n",
       "6395    Aswini upadhyay aap desh ko grhyudh ke raste p...\n",
       "Name: Tweet, Length: 6396, dtype: object"
      ]
     },
     "execution_count": 122,
     "metadata": {},
     "output_type": "execute_result"
    }
   ],
   "source": [
    "df['Tweet'] = df.Tweet.astype('str')\n",
    "df.Tweet"
   ]
  },
  {
   "cell_type": "code",
   "execution_count": 123,
   "metadata": {},
   "outputs": [],
   "source": [
    "df['clean_tweets'] = df['Tweet'].apply(round1)"
   ]
  },
  {
   "cell_type": "code",
   "execution_count": 124,
   "metadata": {},
   "outputs": [
    {
     "data": {
      "text/html": [
       "<div>\n",
       "<style scoped>\n",
       "    .dataframe tbody tr th:only-of-type {\n",
       "        vertical-align: middle;\n",
       "    }\n",
       "\n",
       "    .dataframe tbody tr th {\n",
       "        vertical-align: top;\n",
       "    }\n",
       "\n",
       "    .dataframe thead th {\n",
       "        text-align: right;\n",
       "    }\n",
       "</style>\n",
       "<table border=\"1\" class=\"dataframe\">\n",
       "  <thead>\n",
       "    <tr style=\"text-align: right;\">\n",
       "      <th></th>\n",
       "      <th>Tweet</th>\n",
       "      <th>Hate</th>\n",
       "      <th>Fake</th>\n",
       "      <th>clean_tweets</th>\n",
       "    </tr>\n",
       "  </thead>\n",
       "  <tbody>\n",
       "    <tr>\n",
       "      <th>0</th>\n",
       "      <td>@sudhirchaudhary Abhi tak 2000 ke note me mujh...</td>\n",
       "      <td>0</td>\n",
       "      <td>0</td>\n",
       "      <td>abhi tak 2000 ke note me mujhe gps nano chip ...</td>\n",
       "    </tr>\n",
       "    <tr>\n",
       "      <th>1</th>\n",
       "      <td>@Gulamane_raza @MustakimRazvi Abe katiye tumse...</td>\n",
       "      <td>1</td>\n",
       "      <td>1</td>\n",
       "      <td>abe katiye tumse kuch huaa toh jata nahi bas...</td>\n",
       "    </tr>\n",
       "    <tr>\n",
       "      <th>2</th>\n",
       "      <td>@RajatSharmaLive Ye sab sazish hai....bina sam...</td>\n",
       "      <td>1</td>\n",
       "      <td>1</td>\n",
       "      <td>ye sab sazish haibina saman ke koi kaise apne...</td>\n",
       "    </tr>\n",
       "    <tr>\n",
       "      <th>3</th>\n",
       "      <td>abe jao tum to dasko pahle hi fash gye the jab...</td>\n",
       "      <td>1</td>\n",
       "      <td>0</td>\n",
       "      <td>abe jao tum to dasko pahle hi fash gye the jab...</td>\n",
       "    </tr>\n",
       "    <tr>\n",
       "      <th>4</th>\n",
       "      <td>Ab ye afbah kaun faila Raha hai ki Shahhen bag...</td>\n",
       "      <td>0</td>\n",
       "      <td>0</td>\n",
       "      <td>ab ye afbah kaun faila raha hai ki shahhen bag...</td>\n",
       "    </tr>\n",
       "    <tr>\n",
       "      <th>...</th>\n",
       "      <td>...</td>\n",
       "      <td>...</td>\n",
       "      <td>...</td>\n",
       "      <td>...</td>\n",
       "    </tr>\n",
       "    <tr>\n",
       "      <th>6391</th>\n",
       "      <td>@team_hyv Pathaan part 2 bhi aa rha hai, boyco...</td>\n",
       "      <td>1</td>\n",
       "      <td>0</td>\n",
       "      <td>pathaan pa 2 bhi aa rha hai boycott karna nhi...</td>\n",
       "    </tr>\n",
       "    <tr>\n",
       "      <th>6392</th>\n",
       "      <td>@amitku1047 @bordiasanjay @izeenatrana @RahulG...</td>\n",
       "      <td>1</td>\n",
       "      <td>0</td>\n",
       "      <td>hindenburg adani pe kuchh bolta hai tto ke...</td>\n",
       "    </tr>\n",
       "    <tr>\n",
       "      <th>6393</th>\n",
       "      <td>@HusainSahadal Sachaee ladaee hoti h hamare de...</td>\n",
       "      <td>1</td>\n",
       "      <td>1</td>\n",
       "      <td>sachaee ladaee hoti h hamare desh me tablighi...</td>\n",
       "    </tr>\n",
       "    <tr>\n",
       "      <th>6394</th>\n",
       "      <td>Hahaha hahaha kejurdin ððð</td>\n",
       "      <td>0</td>\n",
       "      <td>1</td>\n",
       "      <td>hahaha hahaha kejurdin</td>\n",
       "    </tr>\n",
       "    <tr>\n",
       "      <th>6395</th>\n",
       "      <td>Aswini upadhyay aap desh ko grhyudh ke raste p...</td>\n",
       "      <td>0</td>\n",
       "      <td>0</td>\n",
       "      <td>aswini upadhyay aap desh ko grhyudh ke raste p...</td>\n",
       "    </tr>\n",
       "  </tbody>\n",
       "</table>\n",
       "<p>6396 rows × 4 columns</p>\n",
       "</div>"
      ],
      "text/plain": [
       "                                                  Tweet  Hate  Fake  \\\n",
       "0     @sudhirchaudhary Abhi tak 2000 ke note me mujh...     0     0   \n",
       "1     @Gulamane_raza @MustakimRazvi Abe katiye tumse...     1     1   \n",
       "2     @RajatSharmaLive Ye sab sazish hai....bina sam...     1     1   \n",
       "3     abe jao tum to dasko pahle hi fash gye the jab...     1     0   \n",
       "4     Ab ye afbah kaun faila Raha hai ki Shahhen bag...     0     0   \n",
       "...                                                 ...   ...   ...   \n",
       "6391  @team_hyv Pathaan part 2 bhi aa rha hai, boyco...     1     0   \n",
       "6392  @amitku1047 @bordiasanjay @izeenatrana @RahulG...     1     0   \n",
       "6393  @HusainSahadal Sachaee ladaee hoti h hamare de...     1     1   \n",
       "6394                Hahaha hahaha kejurdin ððð     0     1   \n",
       "6395  Aswini upadhyay aap desh ko grhyudh ke raste p...     0     0   \n",
       "\n",
       "                                           clean_tweets  \n",
       "0      abhi tak 2000 ke note me mujhe gps nano chip ...  \n",
       "1       abe katiye tumse kuch huaa toh jata nahi bas...  \n",
       "2      ye sab sazish haibina saman ke koi kaise apne...  \n",
       "3     abe jao tum to dasko pahle hi fash gye the jab...  \n",
       "4     ab ye afbah kaun faila raha hai ki shahhen bag...  \n",
       "...                                                 ...  \n",
       "6391   pathaan pa 2 bhi aa rha hai boycott karna nhi...  \n",
       "6392      hindenburg adani pe kuchh bolta hai tto ke...  \n",
       "6393   sachaee ladaee hoti h hamare desh me tablighi...  \n",
       "6394                            hahaha hahaha kejurdin   \n",
       "6395  aswini upadhyay aap desh ko grhyudh ke raste p...  \n",
       "\n",
       "[6396 rows x 4 columns]"
      ]
     },
     "execution_count": 124,
     "metadata": {},
     "output_type": "execute_result"
    }
   ],
   "source": [
    "df"
   ]
  },
  {
   "cell_type": "code",
   "execution_count": 125,
   "metadata": {},
   "outputs": [
    {
     "data": {
      "text/html": [
       "<div>\n",
       "<style scoped>\n",
       "    .dataframe tbody tr th:only-of-type {\n",
       "        vertical-align: middle;\n",
       "    }\n",
       "\n",
       "    .dataframe tbody tr th {\n",
       "        vertical-align: top;\n",
       "    }\n",
       "\n",
       "    .dataframe thead th {\n",
       "        text-align: right;\n",
       "    }\n",
       "</style>\n",
       "<table border=\"1\" class=\"dataframe\">\n",
       "  <thead>\n",
       "    <tr style=\"text-align: right;\">\n",
       "      <th></th>\n",
       "      <th>Tweet</th>\n",
       "      <th>Hate</th>\n",
       "      <th>Fake</th>\n",
       "      <th>clean_tweets</th>\n",
       "    </tr>\n",
       "  </thead>\n",
       "  <tbody>\n",
       "    <tr>\n",
       "      <th>0</th>\n",
       "      <td>@sudhirchaudhary Abhi tak 2000 ke note me mujh...</td>\n",
       "      <td>0</td>\n",
       "      <td>0</td>\n",
       "      <td>abhi tak 2000 ke note me mujhe gps nano chip ...</td>\n",
       "    </tr>\n",
       "    <tr>\n",
       "      <th>1</th>\n",
       "      <td>@Gulamane_raza @MustakimRazvi Abe katiye tumse...</td>\n",
       "      <td>1</td>\n",
       "      <td>1</td>\n",
       "      <td>abe katiye tumse kuch huaa toh jata nahi bas...</td>\n",
       "    </tr>\n",
       "    <tr>\n",
       "      <th>2</th>\n",
       "      <td>@RajatSharmaLive Ye sab sazish hai....bina sam...</td>\n",
       "      <td>1</td>\n",
       "      <td>1</td>\n",
       "      <td>ye sab sazish haibina saman ke koi kaise apne...</td>\n",
       "    </tr>\n",
       "    <tr>\n",
       "      <th>3</th>\n",
       "      <td>abe jao tum to dasko pahle hi fash gye the jab...</td>\n",
       "      <td>1</td>\n",
       "      <td>0</td>\n",
       "      <td>abe jao tum to dasko pahle hi fash gye the jab...</td>\n",
       "    </tr>\n",
       "    <tr>\n",
       "      <th>4</th>\n",
       "      <td>Ab ye afbah kaun faila Raha hai ki Shahhen bag...</td>\n",
       "      <td>0</td>\n",
       "      <td>0</td>\n",
       "      <td>ab ye afbah kaun faila raha hai ki shahhen bag...</td>\n",
       "    </tr>\n",
       "    <tr>\n",
       "      <th>...</th>\n",
       "      <td>...</td>\n",
       "      <td>...</td>\n",
       "      <td>...</td>\n",
       "      <td>...</td>\n",
       "    </tr>\n",
       "    <tr>\n",
       "      <th>6391</th>\n",
       "      <td>@team_hyv Pathaan part 2 bhi aa rha hai, boyco...</td>\n",
       "      <td>1</td>\n",
       "      <td>0</td>\n",
       "      <td>pathaan pa 2 bhi aa rha hai boycott karna nhi...</td>\n",
       "    </tr>\n",
       "    <tr>\n",
       "      <th>6392</th>\n",
       "      <td>@amitku1047 @bordiasanjay @izeenatrana @RahulG...</td>\n",
       "      <td>1</td>\n",
       "      <td>0</td>\n",
       "      <td>hindenburg adani pe kuchh bolta hai tto ke...</td>\n",
       "    </tr>\n",
       "    <tr>\n",
       "      <th>6393</th>\n",
       "      <td>@HusainSahadal Sachaee ladaee hoti h hamare de...</td>\n",
       "      <td>1</td>\n",
       "      <td>1</td>\n",
       "      <td>sachaee ladaee hoti h hamare desh me tablighi...</td>\n",
       "    </tr>\n",
       "    <tr>\n",
       "      <th>6394</th>\n",
       "      <td>Hahaha hahaha kejurdin ððð</td>\n",
       "      <td>0</td>\n",
       "      <td>1</td>\n",
       "      <td>hahaha hahaha kejurdin</td>\n",
       "    </tr>\n",
       "    <tr>\n",
       "      <th>6395</th>\n",
       "      <td>Aswini upadhyay aap desh ko grhyudh ke raste p...</td>\n",
       "      <td>0</td>\n",
       "      <td>0</td>\n",
       "      <td>aswini upadhyay aap desh ko grhyudh ke raste p...</td>\n",
       "    </tr>\n",
       "  </tbody>\n",
       "</table>\n",
       "<p>6396 rows × 4 columns</p>\n",
       "</div>"
      ],
      "text/plain": [
       "                                                  Tweet  Hate  Fake  \\\n",
       "0     @sudhirchaudhary Abhi tak 2000 ke note me mujh...     0     0   \n",
       "1     @Gulamane_raza @MustakimRazvi Abe katiye tumse...     1     1   \n",
       "2     @RajatSharmaLive Ye sab sazish hai....bina sam...     1     1   \n",
       "3     abe jao tum to dasko pahle hi fash gye the jab...     1     0   \n",
       "4     Ab ye afbah kaun faila Raha hai ki Shahhen bag...     0     0   \n",
       "...                                                 ...   ...   ...   \n",
       "6391  @team_hyv Pathaan part 2 bhi aa rha hai, boyco...     1     0   \n",
       "6392  @amitku1047 @bordiasanjay @izeenatrana @RahulG...     1     0   \n",
       "6393  @HusainSahadal Sachaee ladaee hoti h hamare de...     1     1   \n",
       "6394                Hahaha hahaha kejurdin ððð     0     1   \n",
       "6395  Aswini upadhyay aap desh ko grhyudh ke raste p...     0     0   \n",
       "\n",
       "                                           clean_tweets  \n",
       "0      abhi tak 2000 ke note me mujhe gps nano chip ...  \n",
       "1       abe katiye tumse kuch huaa toh jata nahi bas...  \n",
       "2      ye sab sazish haibina saman ke koi kaise apne...  \n",
       "3     abe jao tum to dasko pahle hi fash gye the jab...  \n",
       "4     ab ye afbah kaun faila raha hai ki shahhen bag...  \n",
       "...                                                 ...  \n",
       "6391   pathaan pa 2 bhi aa rha hai boycott karna nhi...  \n",
       "6392      hindenburg adani pe kuchh bolta hai tto ke...  \n",
       "6393   sachaee ladaee hoti h hamare desh me tablighi...  \n",
       "6394                            hahaha hahaha kejurdin   \n",
       "6395  aswini upadhyay aap desh ko grhyudh ke raste p...  \n",
       "\n",
       "[6396 rows x 4 columns]"
      ]
     },
     "execution_count": 125,
     "metadata": {},
     "output_type": "execute_result"
    }
   ],
   "source": [
    "df"
   ]
  },
  {
   "cell_type": "code",
   "execution_count": 126,
   "metadata": {},
   "outputs": [],
   "source": [
    "def tokenise(sentence):\n",
    "    # Split the sentence into words based on whitespace\n",
    "    words = sentence.split()\n",
    "    return words"
   ]
  },
  {
   "cell_type": "code",
   "execution_count": 127,
   "metadata": {},
   "outputs": [],
   "source": [
    "df[\"tokens\"] = df[\"clean_tweets\"].apply(tokenise)"
   ]
  },
  {
   "cell_type": "code",
   "execution_count": 128,
   "metadata": {},
   "outputs": [
    {
     "data": {
      "text/plain": [
       "0       [abhi, tak, 2000, ke, note, me, mujhe, gps, na...\n",
       "1       [abe, katiye, tumse, kuch, huaa, toh, jata, na...\n",
       "2       [ye, sab, sazish, haibina, saman, ke, koi, kai...\n",
       "3       [abe, jao, tum, to, dasko, pahle, hi, fash, gy...\n",
       "4       [ab, ye, afbah, kaun, faila, raha, hai, ki, sh...\n",
       "                              ...                        \n",
       "6391    [pathaan, pa, 2, bhi, aa, rha, hai, boycott, k...\n",
       "6392    [hindenburg, adani, pe, kuchh, bolta, hai, tto...\n",
       "6393    [sachaee, ladaee, hoti, h, hamare, desh, me, t...\n",
       "6394                           [hahaha, hahaha, kejurdin]\n",
       "6395    [aswini, upadhyay, aap, desh, ko, grhyudh, ke,...\n",
       "Name: tokens, Length: 6396, dtype: object"
      ]
     },
     "execution_count": 128,
     "metadata": {},
     "output_type": "execute_result"
    }
   ],
   "source": [
    "df[\"tokens\"]"
   ]
  },
  {
   "cell_type": "markdown",
   "metadata": {},
   "source": [
    "### Creating Word2Vec models"
   ]
  },
  {
   "cell_type": "code",
   "execution_count": 129,
   "metadata": {},
   "outputs": [],
   "source": [
    "w2v_model = Word2Vec(df['tokens'], vector_size=150, window=5, min_count=1, workers=4)"
   ]
  },
  {
   "cell_type": "code",
   "execution_count": 130,
   "metadata": {},
   "outputs": [
    {
     "name": "stdout",
     "output_type": "stream",
     "text": [
      "[('agar', 0.9994317293167114), ('nahi', 0.9993627667427063), ('ab', 0.9992887377738953), ('hi', 0.9992388486862183), ('kaha', 0.99908447265625), ('to', 0.9989811778068542), ('tab', 0.9989758133888245), ('chuka', 0.9989284873008728), ('lekin', 0.9989237785339355), ('itna', 0.9989171028137207)]\n"
     ]
    }
   ],
   "source": [
    "word_vector = w2v_model.wv.most_similar(\"muslim\", topn=10)\n",
    "print(word_vector)"
   ]
  },
  {
   "cell_type": "code",
   "execution_count": 131,
   "metadata": {},
   "outputs": [],
   "source": [
    "w2v_model.save(\"word2vec.model\")"
   ]
  },
  {
   "cell_type": "code",
   "execution_count": 132,
   "metadata": {},
   "outputs": [],
   "source": [
    "def sentence_vector(sentence, model):\n",
    "    # Tokenize the sentence into words\n",
    "    words = tokenise(sentence)\n",
    "    \n",
    "    # Filter out words that are not in the Word2Vec vocabulary\n",
    "    words = [word for word in words if word in model.wv.key_to_index]\n",
    "    \n",
    "    # If no words in the sentence are in the vocabulary, return a zero vector\n",
    "    if not words:\n",
    "        return np.zeros(model.vector_size)\n",
    "    \n",
    "    # Compute the mean of the word vectors for each word in the sentence\n",
    "    vector = np.mean([model.wv[word] for word in words], axis=0)\n",
    "    return vector"
   ]
  },
  {
   "cell_type": "code",
   "execution_count": 133,
   "metadata": {},
   "outputs": [],
   "source": [
    "df[\"word2vec\"] = df['clean_tweets'].apply(lambda x: sentence_vector(x,w2v_model))"
   ]
  },
  {
   "cell_type": "code",
   "execution_count": 134,
   "metadata": {},
   "outputs": [
    {
     "data": {
      "text/plain": [
       "0       [0.05327933, -0.07493128, -0.10879742, -0.2827...\n",
       "1       [0.11655339, -0.22347006, -0.04057673, -0.0387...\n",
       "2       [0.1331015, -0.25062883, -0.048129205, -0.0472...\n",
       "3       [0.10977839, -0.21614453, -0.050451443, -0.031...\n",
       "4       [0.118409, -0.23630533, -0.04893197, -0.050693...\n",
       "                              ...                        \n",
       "6391    [0.08705466, -0.1792776, -0.048283745, -0.0244...\n",
       "6392    [0.1134323, -0.21345969, -0.058458533, -0.0403...\n",
       "6393    [0.15209925, -0.29941723, -0.031905744, -0.045...\n",
       "6394    [0.0040570106, -0.015789637, -0.0033736844, -0...\n",
       "6395    [0.13197841, -0.24417812, -0.057867028, -0.045...\n",
       "Name: word2vec, Length: 6396, dtype: object"
      ]
     },
     "execution_count": 134,
     "metadata": {},
     "output_type": "execute_result"
    }
   ],
   "source": [
    "df['word2vec']"
   ]
  },
  {
   "cell_type": "code",
   "execution_count": 135,
   "metadata": {},
   "outputs": [
    {
     "data": {
      "text/plain": [
       "Tweet           0\n",
       "Hate            0\n",
       "Fake            0\n",
       "clean_tweets    0\n",
       "tokens          0\n",
       "word2vec        0\n",
       "dtype: int64"
      ]
     },
     "execution_count": 135,
     "metadata": {},
     "output_type": "execute_result"
    }
   ],
   "source": [
    "df.isnull().sum()"
   ]
  },
  {
   "cell_type": "code",
   "execution_count": 136,
   "metadata": {},
   "outputs": [
    {
     "name": "stdout",
     "output_type": "stream",
     "text": [
      "Batch of vectors: tensor([[ 0.0919, -0.1740, -0.0424,  ..., -0.3802,  0.4974, -0.3375],\n",
      "        [ 0.1176, -0.2280, -0.0495,  ..., -0.4529,  0.6150, -0.4081],\n",
      "        [ 0.0965, -0.2020, -0.0702,  ..., -0.4305,  0.5786, -0.3836],\n",
      "        ...,\n",
      "        [ 0.0942, -0.2010, -0.0481,  ..., -0.4464,  0.5309, -0.3857],\n",
      "        [ 0.1053, -0.2035, -0.0686,  ..., -0.4529,  0.5941, -0.4152],\n",
      "        [ 0.1355, -0.2086, -0.0984,  ..., -0.3732,  0.6386, -0.4442]])\n",
      "Batch of labels: tensor([1, 1, 1, 1, 0, 1, 1, 0, 1, 0, 1, 1, 0, 1, 1, 1, 1, 1, 1, 0, 1, 0, 0, 1,\n",
      "        1, 1, 1, 1, 0, 0, 1, 1])\n"
     ]
    }
   ],
   "source": [
    "import torch\n",
    "from torch.utils.data import Dataset, DataLoader\n",
    "import pandas as pd\n",
    "\n",
    "\n",
    "# Define a custom Dataset class\n",
    "class Word2VecDataset(Dataset):\n",
    "    def __init__(self, dataframe,target_class):\n",
    "        self.data = dataframe\n",
    "        self.target = target_class\n",
    "    \n",
    "    def __len__(self):\n",
    "        return len(self.data)\n",
    "    \n",
    "    def __getitem__(self, index):\n",
    "        # Extract the input vector and label for a given index\n",
    "        vector = torch.tensor(self.data.iloc[index]['word2vec'], dtype=torch.float32)\n",
    "        label = torch.tensor(self.data.iloc[index][self.target], dtype=torch.long)\n",
    "        return vector, label\n",
    "\n",
    "# Create the dataset and dataloader\n",
    "target = \"Hate\"\n",
    "dataset = Word2VecDataset(df,target)\n",
    "dataloader = DataLoader(dataset, batch_size=32, shuffle=True)\n",
    "\n",
    "# Example usage\n",
    "for vectors, labels in dataloader:\n",
    "    print(\"Batch of vectors:\", vectors)\n",
    "    print(\"Batch of labels:\", labels)\n",
    "    break\n"
   ]
  },
  {
   "cell_type": "code",
   "execution_count": 137,
   "metadata": {},
   "outputs": [
    {
     "data": {
      "text/html": [
       "<div>\n",
       "<style scoped>\n",
       "    .dataframe tbody tr th:only-of-type {\n",
       "        vertical-align: middle;\n",
       "    }\n",
       "\n",
       "    .dataframe tbody tr th {\n",
       "        vertical-align: top;\n",
       "    }\n",
       "\n",
       "    .dataframe thead th {\n",
       "        text-align: right;\n",
       "    }\n",
       "</style>\n",
       "<table border=\"1\" class=\"dataframe\">\n",
       "  <thead>\n",
       "    <tr style=\"text-align: right;\">\n",
       "      <th></th>\n",
       "      <th>Tweet</th>\n",
       "      <th>Hate</th>\n",
       "      <th>Fake</th>\n",
       "      <th>clean_tweets</th>\n",
       "      <th>tokens</th>\n",
       "      <th>word2vec</th>\n",
       "    </tr>\n",
       "  </thead>\n",
       "  <tbody>\n",
       "    <tr>\n",
       "      <th>0</th>\n",
       "      <td>@sudhirchaudhary Abhi tak 2000 ke note me mujh...</td>\n",
       "      <td>0</td>\n",
       "      <td>0</td>\n",
       "      <td>abhi tak 2000 ke note me mujhe gps nano chip ...</td>\n",
       "      <td>[abhi, tak, 2000, ke, note, me, mujhe, gps, na...</td>\n",
       "      <td>[0.05327933, -0.07493128, -0.10879742, -0.2827...</td>\n",
       "    </tr>\n",
       "    <tr>\n",
       "      <th>1</th>\n",
       "      <td>@Gulamane_raza @MustakimRazvi Abe katiye tumse...</td>\n",
       "      <td>1</td>\n",
       "      <td>1</td>\n",
       "      <td>abe katiye tumse kuch huaa toh jata nahi bas...</td>\n",
       "      <td>[abe, katiye, tumse, kuch, huaa, toh, jata, na...</td>\n",
       "      <td>[0.11655339, -0.22347006, -0.04057673, -0.0387...</td>\n",
       "    </tr>\n",
       "    <tr>\n",
       "      <th>2</th>\n",
       "      <td>@RajatSharmaLive Ye sab sazish hai....bina sam...</td>\n",
       "      <td>1</td>\n",
       "      <td>1</td>\n",
       "      <td>ye sab sazish haibina saman ke koi kaise apne...</td>\n",
       "      <td>[ye, sab, sazish, haibina, saman, ke, koi, kai...</td>\n",
       "      <td>[0.1331015, -0.25062883, -0.048129205, -0.0472...</td>\n",
       "    </tr>\n",
       "    <tr>\n",
       "      <th>3</th>\n",
       "      <td>abe jao tum to dasko pahle hi fash gye the jab...</td>\n",
       "      <td>1</td>\n",
       "      <td>0</td>\n",
       "      <td>abe jao tum to dasko pahle hi fash gye the jab...</td>\n",
       "      <td>[abe, jao, tum, to, dasko, pahle, hi, fash, gy...</td>\n",
       "      <td>[0.10977839, -0.21614453, -0.050451443, -0.031...</td>\n",
       "    </tr>\n",
       "    <tr>\n",
       "      <th>4</th>\n",
       "      <td>Ab ye afbah kaun faila Raha hai ki Shahhen bag...</td>\n",
       "      <td>0</td>\n",
       "      <td>0</td>\n",
       "      <td>ab ye afbah kaun faila raha hai ki shahhen bag...</td>\n",
       "      <td>[ab, ye, afbah, kaun, faila, raha, hai, ki, sh...</td>\n",
       "      <td>[0.118409, -0.23630533, -0.04893197, -0.050693...</td>\n",
       "    </tr>\n",
       "    <tr>\n",
       "      <th>...</th>\n",
       "      <td>...</td>\n",
       "      <td>...</td>\n",
       "      <td>...</td>\n",
       "      <td>...</td>\n",
       "      <td>...</td>\n",
       "      <td>...</td>\n",
       "    </tr>\n",
       "    <tr>\n",
       "      <th>6391</th>\n",
       "      <td>@team_hyv Pathaan part 2 bhi aa rha hai, boyco...</td>\n",
       "      <td>1</td>\n",
       "      <td>0</td>\n",
       "      <td>pathaan pa 2 bhi aa rha hai boycott karna nhi...</td>\n",
       "      <td>[pathaan, pa, 2, bhi, aa, rha, hai, boycott, k...</td>\n",
       "      <td>[0.08705466, -0.1792776, -0.048283745, -0.0244...</td>\n",
       "    </tr>\n",
       "    <tr>\n",
       "      <th>6392</th>\n",
       "      <td>@amitku1047 @bordiasanjay @izeenatrana @RahulG...</td>\n",
       "      <td>1</td>\n",
       "      <td>0</td>\n",
       "      <td>hindenburg adani pe kuchh bolta hai tto ke...</td>\n",
       "      <td>[hindenburg, adani, pe, kuchh, bolta, hai, tto...</td>\n",
       "      <td>[0.1134323, -0.21345969, -0.058458533, -0.0403...</td>\n",
       "    </tr>\n",
       "    <tr>\n",
       "      <th>6393</th>\n",
       "      <td>@HusainSahadal Sachaee ladaee hoti h hamare de...</td>\n",
       "      <td>1</td>\n",
       "      <td>1</td>\n",
       "      <td>sachaee ladaee hoti h hamare desh me tablighi...</td>\n",
       "      <td>[sachaee, ladaee, hoti, h, hamare, desh, me, t...</td>\n",
       "      <td>[0.15209925, -0.29941723, -0.031905744, -0.045...</td>\n",
       "    </tr>\n",
       "    <tr>\n",
       "      <th>6394</th>\n",
       "      <td>Hahaha hahaha kejurdin ððð</td>\n",
       "      <td>0</td>\n",
       "      <td>1</td>\n",
       "      <td>hahaha hahaha kejurdin</td>\n",
       "      <td>[hahaha, hahaha, kejurdin]</td>\n",
       "      <td>[0.0040570106, -0.015789637, -0.0033736844, -0...</td>\n",
       "    </tr>\n",
       "    <tr>\n",
       "      <th>6395</th>\n",
       "      <td>Aswini upadhyay aap desh ko grhyudh ke raste p...</td>\n",
       "      <td>0</td>\n",
       "      <td>0</td>\n",
       "      <td>aswini upadhyay aap desh ko grhyudh ke raste p...</td>\n",
       "      <td>[aswini, upadhyay, aap, desh, ko, grhyudh, ke,...</td>\n",
       "      <td>[0.13197841, -0.24417812, -0.057867028, -0.045...</td>\n",
       "    </tr>\n",
       "  </tbody>\n",
       "</table>\n",
       "<p>6396 rows × 6 columns</p>\n",
       "</div>"
      ],
      "text/plain": [
       "                                                  Tweet  Hate  Fake  \\\n",
       "0     @sudhirchaudhary Abhi tak 2000 ke note me mujh...     0     0   \n",
       "1     @Gulamane_raza @MustakimRazvi Abe katiye tumse...     1     1   \n",
       "2     @RajatSharmaLive Ye sab sazish hai....bina sam...     1     1   \n",
       "3     abe jao tum to dasko pahle hi fash gye the jab...     1     0   \n",
       "4     Ab ye afbah kaun faila Raha hai ki Shahhen bag...     0     0   \n",
       "...                                                 ...   ...   ...   \n",
       "6391  @team_hyv Pathaan part 2 bhi aa rha hai, boyco...     1     0   \n",
       "6392  @amitku1047 @bordiasanjay @izeenatrana @RahulG...     1     0   \n",
       "6393  @HusainSahadal Sachaee ladaee hoti h hamare de...     1     1   \n",
       "6394                Hahaha hahaha kejurdin ððð     0     1   \n",
       "6395  Aswini upadhyay aap desh ko grhyudh ke raste p...     0     0   \n",
       "\n",
       "                                           clean_tweets  \\\n",
       "0      abhi tak 2000 ke note me mujhe gps nano chip ...   \n",
       "1       abe katiye tumse kuch huaa toh jata nahi bas...   \n",
       "2      ye sab sazish haibina saman ke koi kaise apne...   \n",
       "3     abe jao tum to dasko pahle hi fash gye the jab...   \n",
       "4     ab ye afbah kaun faila raha hai ki shahhen bag...   \n",
       "...                                                 ...   \n",
       "6391   pathaan pa 2 bhi aa rha hai boycott karna nhi...   \n",
       "6392      hindenburg adani pe kuchh bolta hai tto ke...   \n",
       "6393   sachaee ladaee hoti h hamare desh me tablighi...   \n",
       "6394                            hahaha hahaha kejurdin    \n",
       "6395  aswini upadhyay aap desh ko grhyudh ke raste p...   \n",
       "\n",
       "                                                 tokens  \\\n",
       "0     [abhi, tak, 2000, ke, note, me, mujhe, gps, na...   \n",
       "1     [abe, katiye, tumse, kuch, huaa, toh, jata, na...   \n",
       "2     [ye, sab, sazish, haibina, saman, ke, koi, kai...   \n",
       "3     [abe, jao, tum, to, dasko, pahle, hi, fash, gy...   \n",
       "4     [ab, ye, afbah, kaun, faila, raha, hai, ki, sh...   \n",
       "...                                                 ...   \n",
       "6391  [pathaan, pa, 2, bhi, aa, rha, hai, boycott, k...   \n",
       "6392  [hindenburg, adani, pe, kuchh, bolta, hai, tto...   \n",
       "6393  [sachaee, ladaee, hoti, h, hamare, desh, me, t...   \n",
       "6394                         [hahaha, hahaha, kejurdin]   \n",
       "6395  [aswini, upadhyay, aap, desh, ko, grhyudh, ke,...   \n",
       "\n",
       "                                               word2vec  \n",
       "0     [0.05327933, -0.07493128, -0.10879742, -0.2827...  \n",
       "1     [0.11655339, -0.22347006, -0.04057673, -0.0387...  \n",
       "2     [0.1331015, -0.25062883, -0.048129205, -0.0472...  \n",
       "3     [0.10977839, -0.21614453, -0.050451443, -0.031...  \n",
       "4     [0.118409, -0.23630533, -0.04893197, -0.050693...  \n",
       "...                                                 ...  \n",
       "6391  [0.08705466, -0.1792776, -0.048283745, -0.0244...  \n",
       "6392  [0.1134323, -0.21345969, -0.058458533, -0.0403...  \n",
       "6393  [0.15209925, -0.29941723, -0.031905744, -0.045...  \n",
       "6394  [0.0040570106, -0.015789637, -0.0033736844, -0...  \n",
       "6395  [0.13197841, -0.24417812, -0.057867028, -0.045...  \n",
       "\n",
       "[6396 rows x 6 columns]"
      ]
     },
     "execution_count": 137,
     "metadata": {},
     "output_type": "execute_result"
    }
   ],
   "source": [
    "df"
   ]
  },
  {
   "cell_type": "code",
   "execution_count": 138,
   "metadata": {},
   "outputs": [],
   "source": [
    "\n",
    "# Set parameters and initialize model, criterion, optimizer\n",
    "input_size = len(df['word2vec'][0])  # Dimension of word2vec embeddings\n",
    "hidden_size = 20\n",
    "output_size = len(df['Hate'].unique())  # Number of unique labels for classification\n",
    "learning_rate = 0.001\n"
   ]
  },
  {
   "cell_type": "code",
   "execution_count": 139,
   "metadata": {},
   "outputs": [],
   "source": [
    "import pennylane as qml"
   ]
  },
  {
   "cell_type": "code",
   "execution_count": 140,
   "metadata": {},
   "outputs": [],
   "source": [
    "n_qubits = 5\n",
    "n_layers = 1\n",
    "dev = qml.device(\"lightning.qubit\", wires=n_qubits)\n",
    "\n",
    "\n",
    "@qml.qnode(dev)\n",
    "def quantum_nn(inputs, weights):\n",
    "\n",
    "  # Input Embedding\n",
    "  qml.AngleEmbedding(inputs, wires=range(n_qubits))\n",
    "\n",
    "  qml.BasicEntanglerLayers(weights, wires=range(n_qubits))\n",
    "\n",
    "  return [qml.expval(qml.PauliZ(wires=i)) for i in range(n_qubits)]\n",
    "\n",
    "\n",
    "\n",
    "@qml.qnode(dev)\n",
    "def quantum_nn2(inputs, weights):\n",
    "\n",
    "  # Input Embedding\n",
    "  qml.AngleEmbedding(inputs, wires=range(n_qubits))\n",
    "\n",
    "  qml.BasicEntanglerLayers(weights, wires=range(n_qubits))\n",
    "\n",
    "  return [qml.expval(qml.PauliZ(wires=i)) for i in range(n_qubits)]\n",
    "\n"
   ]
  },
  {
   "cell_type": "code",
   "execution_count": 141,
   "metadata": {},
   "outputs": [],
   "source": [
    "\n",
    "n_layers = 1\n",
    "weight_shapes = {\"weights\": (n_layers, n_qubits)}\n",
    "\n",
    "qlayer = qml.qnn.TorchLayer(quantum_nn, weight_shapes)\n",
    "qlayer2 = qml.qnn.TorchLayer(quantum_nn2, weight_shapes)"
   ]
  },
  {
   "cell_type": "code",
   "execution_count": 142,
   "metadata": {},
   "outputs": [],
   "source": [
    "\n",
    "class QNN_model(nn.Module):\n",
    "    def __init__(self,input_size, qlayer,n_qubits):\n",
    "        super(QNN_model, self).__init__()\n",
    "\n",
    "        # self.fc1 = nn.Linear(input_size, input_size)\n",
    "        self.fc2 = nn.Linear(input_size, input_size//10)\n",
    "        self.fc3 = nn.Linear(input_size//10, input_size//20)\n",
    "        self.fc4 = nn.Linear(input_size//20, n_qubits)\n",
    "        \n",
    "        self.qlayer = qlayer\n",
    "        self.fc6 = nn.Linear(n_qubits, 2)\n",
    "\n",
    "\n",
    "    def forward(self, x):\n",
    "        # x = torch.relu(self.fc1(x))\n",
    "        x = torch.relu(self.fc2(x))\n",
    "        x = torch.relu(self.fc3(x))\n",
    "        x = torch.relu(self.fc4(x))\n",
    "        # x = torch.relu(self.fc5(x))\n",
    "        x = torch.relu(self.qlayer(x))\n",
    "        x = torch.softmax(self.fc6(x), dim=1)\n",
    "\n",
    "        return x\n"
   ]
  },
  {
   "cell_type": "code",
   "execution_count": 143,
   "metadata": {},
   "outputs": [
    {
     "name": "stdout",
     "output_type": "stream",
     "text": [
      "Batch of vectors: tensor([[ 0.1025, -0.2029, -0.0500,  ..., -0.4063,  0.5540, -0.3513],\n",
      "        [ 0.1593, -0.3328, -0.0396,  ..., -0.6189,  0.8365, -0.5186],\n",
      "        [ 0.1065, -0.2168, -0.0488,  ..., -0.4528,  0.5920, -0.3829],\n",
      "        ...,\n",
      "        [ 0.0072, -0.0115, -0.0061,  ..., -0.0257,  0.0369, -0.0246],\n",
      "        [ 0.1049, -0.2136, -0.0369,  ..., -0.4235,  0.5669, -0.3619],\n",
      "        [ 0.1169, -0.2291, -0.0439,  ..., -0.4548,  0.6102, -0.4063]])\n",
      "Batch of labels: tensor([1, 1, 1, 1, 1, 0, 0, 1, 0, 0, 0, 0, 1, 1, 1, 0, 0, 1, 1, 1, 1, 1, 1, 0,\n",
      "        0, 1, 1, 1, 0, 0, 0, 1])\n"
     ]
    }
   ],
   "source": [
    "\n",
    "target = \"Hate\"\n",
    "dataset = Word2VecDataset(df,target)\n",
    "dataloader = DataLoader(dataset, batch_size=32, shuffle=True)\n",
    "\n",
    "# Example usage\n",
    "for vectors, labels in dataloader:\n",
    "    print(\"Batch of vectors:\", vectors)\n",
    "    print(\"Batch of labels:\", labels)\n",
    "    break\n",
    "\n",
    "Qmodel1 = QNN_model(150,qlayer,n_qubits)"
   ]
  },
  {
   "cell_type": "code",
   "execution_count": 144,
   "metadata": {},
   "outputs": [
    {
     "name": "stdout",
     "output_type": "stream",
     "text": [
      "Epoch 1/20, Loss: 0.674410988868513, Accuracy: 0.6411819887429644\n",
      "Epoch 2/20, Loss: 0.6509665672744789, Accuracy: 0.6411819887429644\n",
      "Epoch 3/20, Loss: 0.6396016162809094, Accuracy: 0.6504065040650406\n",
      "Epoch 4/20, Loss: 0.6286461233272636, Accuracy: 0.6735459662288931\n",
      "Epoch 5/20, Loss: 0.6229204510136498, Accuracy: 0.6790181363352095\n",
      "Epoch 6/20, Loss: 0.6206837741936498, Accuracy: 0.6769856160100063\n",
      "Epoch 7/20, Loss: 0.6178864292087519, Accuracy: 0.683552220137586\n",
      "Epoch 8/20, Loss: 0.6164259328329242, Accuracy: 0.6860537836147592\n",
      "Epoch 9/20, Loss: 0.6148162120726051, Accuracy: 0.6871482176360225\n",
      "Epoch 10/20, Loss: 0.6140379745040259, Accuracy: 0.6874609130706691\n",
      "Epoch 11/20, Loss: 0.6127638529061228, Accuracy: 0.6868355222013759\n",
      "Epoch 12/20, Loss: 0.6135415503798313, Accuracy: 0.6874609130706691\n",
      "Epoch 13/20, Loss: 0.6126336060962951, Accuracy: 0.6865228267667292\n",
      "Epoch 14/20, Loss: 0.6121403623402604, Accuracy: 0.6885553470919324\n",
      "Epoch 15/20, Loss: 0.6111100250255175, Accuracy: 0.6898061288305191\n",
      "Epoch 16/20, Loss: 0.6106362691366949, Accuracy: 0.6893370856785491\n",
      "Epoch 17/20, Loss: 0.6114982641287489, Accuracy: 0.6849593495934959\n",
      "Epoch 18/20, Loss: 0.6114788688369808, Accuracy: 0.6880863039399625\n",
      "Epoch 19/20, Loss: 0.610282819594645, Accuracy: 0.6893370856785491\n",
      "Epoch 20/20, Loss: 0.6106205385800374, Accuracy: 0.6879299562226392\n"
     ]
    }
   ],
   "source": [
    "\n",
    "\n",
    "# Define loss function and optimizer\n",
    "criterion = nn.CrossEntropyLoss()\n",
    "optimizer = optim.Adam(Qmodel1.parameters(), lr=0.001)\n",
    "\n",
    "filename = 'results.csv'\n",
    "with open(filename, 'w', newline='') as csvfile:\n",
    "    writer = csv.writer(csvfile)\n",
    "    # Write header if needed\n",
    "    writer.writerow(['Epoch','Loss' ,'Model Accuracy' ])\n",
    "\n",
    "\n",
    "\n",
    "# Training loop\n",
    "num_epochs = 20\n",
    "for epoch in range(num_epochs):\n",
    "    Qmodel1.train()  # Set the model to training mode\n",
    "    running_loss = 0.0\n",
    "    correct = 0\n",
    "    total = 0\n",
    "\n",
    "    for inputs, labels in dataloader:\n",
    "        # Forward pass\n",
    "        outputs = Qmodel1(inputs)\n",
    "        \n",
    "        loss = criterion(outputs, labels)\n",
    "\n",
    "        # Backward pass and optimization\n",
    "        optimizer.zero_grad()\n",
    "        loss.backward()\n",
    "        optimizer.step()\n",
    "\n",
    "        # Calculate running loss and accuracy\n",
    "        running_loss += loss.item() * inputs.size(0)\n",
    "        _, predicted = torch.max(outputs.data, 1)\n",
    "        total += labels.size(0)\n",
    "        # print(total)\n",
    "        correct += (predicted == labels).sum().item()\n",
    "\n",
    "    # Print statistics for the current epoch\n",
    "    epoch_loss = running_loss / len(dataloader.dataset)\n",
    "    epoch_acc = correct / total\n",
    "    print(f\"Epoch {epoch+1}/{num_epochs}, Loss: {epoch_loss}, Accuracy: {epoch_acc}\")\n",
    "\n",
    "\n",
    "\n",
    "    with open(filename, 'a', newline='') as csvfile:\n",
    "      writer = csv.writer(csvfile)\n",
    "      writer.writerow([epoch,epoch_loss ,epoch_acc])\n",
    "\n"
   ]
  },
  {
   "cell_type": "code",
   "execution_count": 145,
   "metadata": {},
   "outputs": [
    {
     "name": "stdout",
     "output_type": "stream",
     "text": [
      "Batch of vectors: tensor([[ 0.0439, -0.0910, -0.0427,  ..., -0.2473,  0.2942, -0.1970],\n",
      "        [ 0.0952, -0.1911, -0.0501,  ..., -0.4093,  0.5267, -0.3536],\n",
      "        [ 0.1182, -0.2305, -0.0511,  ..., -0.4616,  0.6184, -0.4029],\n",
      "        ...,\n",
      "        [ 0.1187, -0.2354, -0.0417,  ..., -0.4676,  0.6288, -0.4091],\n",
      "        [ 0.1482, -0.2844, -0.0478,  ..., -0.5602,  0.7436, -0.4924],\n",
      "        [ 0.1064, -0.2084, -0.0478,  ..., -0.4250,  0.5720, -0.3655]])\n",
      "Batch of labels: tensor([0, 0, 1, 0, 0, 1, 0, 0, 1, 1, 1, 1, 0, 1, 0, 1, 1, 1, 1, 1, 0, 1, 0, 1,\n",
      "        0, 1, 0, 0, 0, 0, 1, 1])\n"
     ]
    }
   ],
   "source": [
    "\n",
    "target = \"Fake\"\n",
    "dataset = Word2VecDataset(df,target)\n",
    "dataloader = DataLoader(dataset, batch_size=32, shuffle=True)\n",
    "\n",
    "# Example usage\n",
    "for vectors, labels in dataloader:\n",
    "    print(\"Batch of vectors:\", vectors)\n",
    "    print(\"Batch of labels:\", labels)\n",
    "    break\n",
    "\n",
    "Qmodel2 = QNN_model(150,qlayer,n_qubits)"
   ]
  },
  {
   "cell_type": "code",
   "execution_count": 146,
   "metadata": {},
   "outputs": [
    {
     "name": "stdout",
     "output_type": "stream",
     "text": [
      "Epoch 1/20, Loss: 0.6930531373316232, Accuracy: 0.5062539086929331\n",
      "Epoch 2/20, Loss: 0.6928557928015546, Accuracy: 0.5137585991244528\n",
      "Epoch 3/20, Loss: 0.6928789158624884, Accuracy: 0.5137585991244528\n",
      "Epoch 4/20, Loss: 0.6928738687767544, Accuracy: 0.5137585991244528\n",
      "Epoch 5/20, Loss: 0.6928482619280216, Accuracy: 0.5137585991244528\n",
      "Epoch 6/20, Loss: 0.6928492134403184, Accuracy: 0.5137585991244528\n",
      "Epoch 7/20, Loss: 0.6928019884454227, Accuracy: 0.5137585991244528\n",
      "Epoch 8/20, Loss: 0.6928347032691927, Accuracy: 0.5137585991244528\n",
      "Epoch 9/20, Loss: 0.6928413593075736, Accuracy: 0.5137585991244528\n",
      "Epoch 10/20, Loss: 0.6928653232077646, Accuracy: 0.5137585991244528\n",
      "Epoch 11/20, Loss: 0.6928442741946327, Accuracy: 0.5137585991244528\n",
      "Epoch 12/20, Loss: 0.6928409269409227, Accuracy: 0.5137585991244528\n",
      "Epoch 13/20, Loss: 0.6928335632511494, Accuracy: 0.5137585991244528\n",
      "Epoch 14/20, Loss: 0.6928117552200208, Accuracy: 0.5137585991244528\n",
      "Epoch 15/20, Loss: 0.6927999101481339, Accuracy: 0.5137585991244528\n",
      "Epoch 16/20, Loss: 0.69286257751738, Accuracy: 0.5137585991244528\n",
      "Epoch 17/20, Loss: 0.6928202683959923, Accuracy: 0.5137585991244528\n",
      "Epoch 18/20, Loss: 0.6928569679337788, Accuracy: 0.5137585991244528\n",
      "Epoch 19/20, Loss: 0.692861754347042, Accuracy: 0.5137585991244528\n",
      "Epoch 20/20, Loss: 0.6928536859879724, Accuracy: 0.5137585991244528\n"
     ]
    }
   ],
   "source": [
    "\n",
    "\n",
    "# Define loss function and optimizer\n",
    "criterion = nn.CrossEntropyLoss()\n",
    "optimizer = optim.Adam(Qmodel2.parameters(), lr=0.001)\n",
    "\n",
    "filename = 'results.csv'\n",
    "with open(filename, 'w', newline='') as csvfile:\n",
    "    writer = csv.writer(csvfile)\n",
    "    # Write header if needed\n",
    "    writer.writerow(['Epoch','Loss' ,'Model Accuracy' ])\n",
    "\n",
    "\n",
    "\n",
    "# Training loop\n",
    "num_epochs = 20\n",
    "for epoch in range(num_epochs):\n",
    "    Qmodel2.train()  # Set the model to training mode\n",
    "    running_loss = 0.0\n",
    "    correct = 0\n",
    "    total = 0\n",
    "\n",
    "    for inputs, labels in dataloader:\n",
    "        # Forward pass\n",
    "        outputs = Qmodel2(inputs)\n",
    "        \n",
    "        loss = criterion(outputs, labels)\n",
    "\n",
    "        # Backward pass and optimization\n",
    "        optimizer.zero_grad()\n",
    "        loss.backward()\n",
    "        optimizer.step()\n",
    "\n",
    "        # Calculate running loss and accuracy\n",
    "        running_loss += loss.item() * inputs.size(0)\n",
    "        _, predicted = torch.max(outputs.data, 1)\n",
    "        total += labels.size(0)\n",
    "        # print(total)\n",
    "        correct += (predicted == labels).sum().item()\n",
    "\n",
    "    # Print statistics for the current epoch\n",
    "    epoch_loss = running_loss / len(dataloader.dataset)\n",
    "    epoch_acc = correct / total\n",
    "    print(f\"Epoch {epoch+1}/{num_epochs}, Loss: {epoch_loss}, Accuracy: {epoch_acc}\")\n",
    "\n",
    "\n",
    "\n",
    "    with open(filename, 'a', newline='') as csvfile:\n",
    "      writer = csv.writer(csvfile)\n",
    "      writer.writerow([epoch,epoch_loss ,epoch_acc])\n",
    "\n"
   ]
  },
  {
   "cell_type": "code",
   "execution_count": null,
   "metadata": {},
   "outputs": [],
   "source": []
  },
  {
   "cell_type": "code",
   "execution_count": 147,
   "metadata": {},
   "outputs": [],
   "source": [
    "test_data = pd.read_excel(\"Test_Task_A (1).xlsx\")"
   ]
  },
  {
   "cell_type": "code",
   "execution_count": 148,
   "metadata": {},
   "outputs": [
    {
     "data": {
      "text/html": [
       "<div>\n",
       "<style scoped>\n",
       "    .dataframe tbody tr th:only-of-type {\n",
       "        vertical-align: middle;\n",
       "    }\n",
       "\n",
       "    .dataframe tbody tr th {\n",
       "        vertical-align: top;\n",
       "    }\n",
       "\n",
       "    .dataframe thead th {\n",
       "        text-align: right;\n",
       "    }\n",
       "</style>\n",
       "<table border=\"1\" class=\"dataframe\">\n",
       "  <thead>\n",
       "    <tr style=\"text-align: right;\">\n",
       "      <th></th>\n",
       "      <th>Id</th>\n",
       "      <th>Tweet</th>\n",
       "      <th>Hate</th>\n",
       "      <th>Fake</th>\n",
       "      <th>temp</th>\n",
       "      <th>word2vec</th>\n",
       "    </tr>\n",
       "  </thead>\n",
       "  <tbody>\n",
       "    <tr>\n",
       "      <th>0</th>\n",
       "      <td>1516</td>\n",
       "      <td>100 +crore hindu+ others  ghar me band h, leki...</td>\n",
       "      <td>1</td>\n",
       "      <td>1</td>\n",
       "      <td>100 crore hindu others  ghar me band h lekin y...</td>\n",
       "      <td>[0.12745269, -0.25061828, -0.042869676, -0.043...</td>\n",
       "    </tr>\n",
       "    <tr>\n",
       "      <th>1</th>\n",
       "      <td>3359</td>\n",
       "      <td>jo bhosadiwale shaheen bagh khali nahi kara pa...</td>\n",
       "      <td>1</td>\n",
       "      <td>0</td>\n",
       "      <td>jo bhosadiwale shaheen bagh khali nahi kara pa...</td>\n",
       "      <td>[0.12546985, -0.24827546, -0.086246744, -0.060...</td>\n",
       "    </tr>\n",
       "    <tr>\n",
       "      <th>2</th>\n",
       "      <td>6706</td>\n",
       "      <td>ak bar itihas par lena bhavi jaanÃ¢ÂÂ¤Ã¯Â¸Â</td>\n",
       "      <td>0</td>\n",
       "      <td>0</td>\n",
       "      <td>ak bar itihas par lena bhavi jaan</td>\n",
       "      <td>[0.0693646, -0.13131233, -0.035739332, -0.0327...</td>\n",
       "    </tr>\n",
       "    <tr>\n",
       "      <th>3</th>\n",
       "      <td>6472</td>\n",
       "      <td>Le hindu :- ye kab huaÃ°ÂÂÂ</td>\n",
       "      <td>0</td>\n",
       "      <td>0</td>\n",
       "      <td>le hindu  ye kab hua</td>\n",
       "      <td>[0.16190812, -0.31664705, -0.08530353, -0.0502...</td>\n",
       "    </tr>\n",
       "  </tbody>\n",
       "</table>\n",
       "</div>"
      ],
      "text/plain": [
       "     Id                                              Tweet  Hate  Fake  \\\n",
       "0  1516  100 +crore hindu+ others  ghar me band h, leki...     1     1   \n",
       "1  3359  jo bhosadiwale shaheen bagh khali nahi kara pa...     1     0   \n",
       "2  6706      ak bar itihas par lena bhavi jaanÃ¢ÂÂ¤Ã¯Â¸Â     0     0   \n",
       "3  6472                     Le hindu :- ye kab huaÃ°ÂÂÂ     0     0   \n",
       "\n",
       "                                                temp  \\\n",
       "0  100 crore hindu others  ghar me band h lekin y...   \n",
       "1  jo bhosadiwale shaheen bagh khali nahi kara pa...   \n",
       "2                  ak bar itihas par lena bhavi jaan   \n",
       "3                               le hindu  ye kab hua   \n",
       "\n",
       "                                            word2vec  \n",
       "0  [0.12745269, -0.25061828, -0.042869676, -0.043...  \n",
       "1  [0.12546985, -0.24827546, -0.086246744, -0.060...  \n",
       "2  [0.0693646, -0.13131233, -0.035739332, -0.0327...  \n",
       "3  [0.16190812, -0.31664705, -0.08530353, -0.0502...  "
      ]
     },
     "execution_count": 148,
     "metadata": {},
     "output_type": "execute_result"
    }
   ],
   "source": [
    "test_data['temp'] = test_data['Tweet'].apply(lambda x: clean_text_round1(x))\n",
    "test_data['word2vec'] = test_data['temp'].apply(lambda x: sentence_vector(x,w2v_model)) \n",
    "test_data.head(4)"
   ]
  },
  {
   "cell_type": "code",
   "execution_count": 149,
   "metadata": {},
   "outputs": [],
   "source": [
    "target_test = \"Hate\"\n",
    "dataset_test = Word2VecDataset(test_data,target_test)"
   ]
  },
  {
   "cell_type": "code",
   "execution_count": 150,
   "metadata": {},
   "outputs": [],
   "source": [
    "Qmodel1.eval()  # Set model to evaluation mode\n",
    "hate_outputs = []  # List to store binary predictions\n",
    "\n",
    "for i in range(dataset_test.__len__()):\n",
    "    input = dataset_test[i][0]  # Get the input data\n",
    "    input = input.unsqueeze(0)  # Add batch dimension (1, features) if needed\n",
    "    output = Qmodel1(input)  # Get softmax output\n",
    "    binary_pred = torch.argmax(output, dim=-1).item()  # Convert to binary (0 or 1)\n",
    "    hate_outputs.append(binary_pred)\n",
    "\n",
    "# print(\"Binary Predictions:\", binary_outputs)\n"
   ]
  },
  {
   "cell_type": "code",
   "execution_count": 151,
   "metadata": {},
   "outputs": [],
   "source": [
    "target_test = \"Fake\"\n",
    "dataset_test = Word2VecDataset(test_data,target_test)"
   ]
  },
  {
   "cell_type": "code",
   "execution_count": 152,
   "metadata": {},
   "outputs": [],
   "source": [
    "Qmodel2.eval()  # Set model to evaluation mode\n",
    "fake_outputs = []  # List to store binary predictions\n",
    "\n",
    "for i in range(dataset_test.__len__()):\n",
    "    input = dataset_test[i][0]  # Get the input data\n",
    "    input = input.unsqueeze(0)  # Add batch dimension (1, features) if needed\n",
    "    output = Qmodel2(input)  # Get softmax output\n",
    "    binary_pred = torch.argmax(output, dim=-1).item()  # Convert to binary (0 or 1)\n",
    "    fake_outputs.append(binary_pred)\n"
   ]
  },
  {
   "cell_type": "code",
   "execution_count": 153,
   "metadata": {},
   "outputs": [],
   "source": [
    "test_data['Hate_pred'] = hate_outputs\n",
    "test_data['Fake_pred'] = fake_outputs"
   ]
  },
  {
   "cell_type": "code",
   "execution_count": 154,
   "metadata": {},
   "outputs": [
    {
     "name": "stdout",
     "output_type": "stream",
     "text": [
      "<class 'pandas.core.frame.DataFrame'>\n",
      "RangeIndex: 800 entries, 0 to 799\n",
      "Data columns (total 8 columns):\n",
      " #   Column     Non-Null Count  Dtype \n",
      "---  ------     --------------  ----- \n",
      " 0   Id         800 non-null    int64 \n",
      " 1   Tweet      800 non-null    object\n",
      " 2   Hate       800 non-null    int64 \n",
      " 3   Fake       800 non-null    int64 \n",
      " 4   temp       800 non-null    object\n",
      " 5   word2vec   800 non-null    object\n",
      " 6   Hate_pred  800 non-null    int64 \n",
      " 7   Fake_pred  800 non-null    int64 \n",
      "dtypes: int64(5), object(3)\n",
      "memory usage: 50.1+ KB\n"
     ]
    }
   ],
   "source": [
    "test_data.info()"
   ]
  },
  {
   "cell_type": "code",
   "execution_count": 155,
   "metadata": {},
   "outputs": [],
   "source": [
    "import pandas as pd\n",
    "import joblib\n",
    "from sklearn.feature_extraction.text import TfidfVectorizer\n",
    "from sklearn.metrics import classification_report\n",
    "import os"
   ]
  },
  {
   "cell_type": "code",
   "execution_count": 156,
   "metadata": {},
   "outputs": [],
   "source": [
    "from sklearn.metrics import classification_report\n",
    "\n",
    "def predict_and_evaluate(test_data):\n",
    "    \"\"\"\n",
    "    Evaluates the performance of a multi-label classification model on test data.\n",
    "    \n",
    "    Args:\n",
    "    - test_data (pd.DataFrame): DataFrame containing the ground truth labels ('Hate', 'Fake') \n",
    "                                and the predicted labels ('Hate_pred', 'Fake_pred').\n",
    "\n",
    "    Returns:\n",
    "    - None: Prints classification reports for each target column.\n",
    "    \"\"\"\n",
    "    required_columns = ['Hate', 'Fake', 'Hate_pred', 'Fake_pred']\n",
    "    missing_columns = [col for col in required_columns if col not in test_data.columns]\n",
    "    if missing_columns:\n",
    "        raise KeyError(f\"The following required columns are missing in the dataset: {missing_columns}\")\n",
    "    \n",
    "    # Replace NaN in Target and Severity where Hate == 0\n",
    "    test_data['Hate'] = test_data['Hate'].fillna(0)\n",
    "    test_data['Fake'] = test_data['Fake'].fillna(0)\n",
    "    \n",
    "    # Extract true labels and predicted labels\n",
    "    y_test = test_data[['Hate', 'Fake']].astype(int)  # Convert to integers if not already\n",
    "    y_pred = test_data[['Hate_pred', 'Fake_pred']].astype(int)\n",
    "    \n",
    "    # Evaluate each target separately\n",
    "    for column in y_test.columns:\n",
    "        print(f\"\\nClassification Report for {column}:\")\n",
    "        print(classification_report(y_test[column], y_pred[f\"{column}_pred\"]))\n"
   ]
  },
  {
   "cell_type": "code",
   "execution_count": 157,
   "metadata": {},
   "outputs": [
    {
     "name": "stdout",
     "output_type": "stream",
     "text": [
      "\n",
      "Classification Report for Hate:\n",
      "              precision    recall  f1-score   support\n",
      "\n",
      "           0       0.74      0.21      0.32       287\n",
      "           1       0.68      0.96      0.80       513\n",
      "\n",
      "    accuracy                           0.69       800\n",
      "   macro avg       0.71      0.58      0.56       800\n",
      "weighted avg       0.70      0.69      0.63       800\n",
      "\n",
      "\n",
      "Classification Report for Fake:\n",
      "              precision    recall  f1-score   support\n",
      "\n",
      "           0       0.00      0.00      0.00       383\n",
      "           1       0.52      1.00      0.69       417\n",
      "\n",
      "    accuracy                           0.52       800\n",
      "   macro avg       0.26      0.50      0.34       800\n",
      "weighted avg       0.27      0.52      0.36       800\n",
      "\n"
     ]
    },
    {
     "name": "stderr",
     "output_type": "stream",
     "text": [
      "c:\\Users\\naman\\OneDrive\\Documents\\Speed-test\\lulc\\Lib\\site-packages\\sklearn\\metrics\\_classification.py:1531: UndefinedMetricWarning: Precision is ill-defined and being set to 0.0 in labels with no predicted samples. Use `zero_division` parameter to control this behavior.\n",
      "  _warn_prf(average, modifier, f\"{metric.capitalize()} is\", len(result))\n",
      "c:\\Users\\naman\\OneDrive\\Documents\\Speed-test\\lulc\\Lib\\site-packages\\sklearn\\metrics\\_classification.py:1531: UndefinedMetricWarning: Precision is ill-defined and being set to 0.0 in labels with no predicted samples. Use `zero_division` parameter to control this behavior.\n",
      "  _warn_prf(average, modifier, f\"{metric.capitalize()} is\", len(result))\n",
      "c:\\Users\\naman\\OneDrive\\Documents\\Speed-test\\lulc\\Lib\\site-packages\\sklearn\\metrics\\_classification.py:1531: UndefinedMetricWarning: Precision is ill-defined and being set to 0.0 in labels with no predicted samples. Use `zero_division` parameter to control this behavior.\n",
      "  _warn_prf(average, modifier, f\"{metric.capitalize()} is\", len(result))\n"
     ]
    }
   ],
   "source": [
    "predict_and_evaluate(test_data)"
   ]
  }
 ],
 "metadata": {
  "kernelspec": {
   "display_name": "lulc",
   "language": "python",
   "name": "python3"
  },
  "language_info": {
   "codemirror_mode": {
    "name": "ipython",
    "version": 3
   },
   "file_extension": ".py",
   "mimetype": "text/x-python",
   "name": "python",
   "nbconvert_exporter": "python",
   "pygments_lexer": "ipython3",
   "version": "3.11.9"
  }
 },
 "nbformat": 4,
 "nbformat_minor": 2
}
